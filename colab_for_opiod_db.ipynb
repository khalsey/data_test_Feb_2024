{
  "nbformat": 4,
  "nbformat_minor": 0,
  "metadata": {
    "colab": {
      "provenance": [],
      "authorship_tag": "ABX9TyMuiiHLBCZ4osyuJjf+r0uj",
      "include_colab_link": true
    },
    "kernelspec": {
      "name": "python3",
      "display_name": "Python 3"
    },
    "language_info": {
      "name": "python"
    }
  },
  "cells": [
    {
      "cell_type": "markdown",
      "metadata": {
        "id": "view-in-github",
        "colab_type": "text"
      },
      "source": [
        "<a href=\"https://colab.research.google.com/github/khalsey/data_test_Feb_2024/blob/main/colab_for_opiod_db.ipynb\" target=\"_parent\"><img src=\"https://colab.research.google.com/assets/colab-badge.svg\" alt=\"Open In Colab\"/></a>"
      ]
    },
    {
      "cell_type": "code",
      "execution_count": 16,
      "metadata": {
        "colab": {
          "base_uri": "https://localhost:8080/"
        },
        "id": "E61Rbrer2a-x",
        "outputId": "3ac00baf-418d-4be3-b8b4-98d54d8ee772"
      },
      "outputs": [
        {
          "output_type": "stream",
          "name": "stdout",
          "text": [
            "Data from county_pop_arcos.csv inserted into population table.\n",
            "Data from county_annual.csv inserted into annual table.\n",
            "Data from land_area.csv inserted into land table.\n",
            "All tables populated successfully.\n"
          ]
        }
      ],
      "source": [
        "import sqlite3\n",
        "import csv\n",
        "\n",
        "# Connect to the SQLite database file\n",
        "conn = sqlite3.connect('opiod.db')\n",
        "cursor = conn.cursor()\n",
        "\n",
        "# Function to create table and populate with data from CSV file\n",
        "def create_and_populate_table(csv_filename, table_name):\n",
        "    # Read data from CSV file\n",
        "    with open(csv_filename, 'r') as file:\n",
        "        csv_reader = csv.reader(file)\n",
        "        header = next(csv_reader)  # Get header row\n",
        "        # Create table if not exists\n",
        "        create_table_query = f'CREATE TABLE IF NOT EXISTS {table_name} ({\", \".join([f\"{column} TEXT\" for column in header])})'\n",
        "        cursor.execute(create_table_query)\n",
        "        # Insert data into table\n",
        "        for row in csv_reader:\n",
        "            cursor.execute(f'INSERT INTO {table_name} VALUES ({\", \".join([\"?\" for _ in row])})', row)\n",
        "    print(f'Data from {csv_filename} inserted into {table_name} table.')\n",
        "\n",
        "# Define CSV files and corresponding table names\n",
        "csv_files = ['county_pop_arcos.csv', 'county_annual.csv', 'land_area.csv']\n",
        "table_names = ['population', 'annual', 'land']\n",
        "\n",
        "# Populate tables with data from CSV files\n",
        "for csv_file, table_name in zip(csv_files, table_names):\n",
        "    create_and_populate_table(csv_file, table_name)\n",
        "\n",
        "# Commit changes and close connection\n",
        "conn.commit()\n",
        "conn.close()\n",
        "\n",
        "print(\"All tables populated successfully.\")\n"
      ]
    },
    {
      "cell_type": "code",
      "source": [],
      "metadata": {
        "id": "rDXrApxv24BJ"
      },
      "execution_count": 3,
      "outputs": []
    },
    {
      "cell_type": "code",
      "source": [],
      "metadata": {
        "id": "1ML4vzd93mLZ"
      },
      "execution_count": null,
      "outputs": []
    }
  ]
}